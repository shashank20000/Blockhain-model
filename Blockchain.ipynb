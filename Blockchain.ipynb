{
  "nbformat": 4,
  "nbformat_minor": 0,
  "metadata": {
    "colab": {
      "name": "Blockchain.ipynb",
      "provenance": [],
      "collapsed_sections": []
    },
    "kernelspec": {
      "display_name": "Python 3",
      "name": "python3"
    },
    "language_info": {
      "name": "python"
    }
  },
  "cells": [
    {
      "cell_type": "markdown",
      "metadata": {
        "id": "w3lEMQ8LIrv_"
      },
      "source": [
        "Importing necessary librabry"
      ]
    },
    {
      "cell_type": "code",
      "metadata": {
        "id": "kIocLjwoI8Md"
      },
      "source": [
        "import hashlib\n",
        "import datetime\n",
        "import uuid"
      ],
      "execution_count": null,
      "outputs": []
    },
    {
      "cell_type": "markdown",
      "metadata": {
        "id": "BzBOmRDfI9Bv"
      },
      "source": [
        "Variable Declaration"
      ]
    },
    {
      "cell_type": "code",
      "metadata": {
        "id": "E0QLzdp3KMA-"
      },
      "source": [
        "lname=list();\n",
        "lvote=list();\n",
        "ldate=list();\n",
        "lmac=list();"
      ],
      "execution_count": null,
      "outputs": []
    },
    {
      "cell_type": "markdown",
      "metadata": {
        "id": "whjzrQ2_KPPG"
      },
      "source": [
        "Taking Input"
      ]
    },
    {
      "cell_type": "code",
      "metadata": {
        "colab": {
          "base_uri": "https://localhost:8080/"
        },
        "id": "JyI0FpiQaUVo",
        "outputId": "eb16cb51-d218-421d-f388-2ca18384b6b8"
      },
      "source": [
        "i=1;\n",
        "print(\"Welcome to 2021 elections\");\n",
        "while(1):\n",
        "    macid=str(hex(uuid.getnode()))\n",
        "    name=str(input(f\"Enter your name\"));\n",
        "    lname.append(name);\n",
        "    print(\"Enter 1 for Ravi\")\n",
        "    print(\"Enter 2 for Prashanth\")\n",
        "    print(\"Enter 3 for Mohith\")\n",
        "    vote=str(input(f\"Cast your vote\"));\n",
        "    date=str(datetime.datetime.now())\n",
        "    lvote.append(vote);\n",
        "    ldate.append(date);\n",
        "    lmac.append(macid);\n",
        "    z=int(input(\"type 1 to continue and 0 to dicontinue\"));\n",
        "    if(z==0):\n",
        "      break"
      ],
      "execution_count": null,
      "outputs": [
        {
          "output_type": "stream",
          "text": [
            "Welcome to 2021 elections\n",
            "Enter your nameShashank\n",
            "Enter 1 for Ravi\n",
            "Enter 2 for Prashanth\n",
            "Enter 3 for Mohith\n",
            "Cast your vote1\n",
            "type 1 to continue and 0 to dicontinue1\n",
            "Enter your nameRahul\n",
            "Enter 1 for Ravi\n",
            "Enter 2 for Prashanth\n",
            "Enter 3 for Mohith\n",
            "Cast your vote1\n",
            "type 1 to continue and 0 to dicontinue1\n",
            "Enter your nameSuhas\n",
            "Enter 1 for Ravi\n",
            "Enter 2 for Prashanth\n",
            "Enter 3 for Mohith\n",
            "Cast your vote2\n",
            "type 1 to continue and 0 to dicontinue0\n"
          ],
          "name": "stdout"
        }
      ]
    },
    {
      "cell_type": "code",
      "metadata": {
        "colab": {
          "base_uri": "https://localhost:8080/"
        },
        "id": "S0SZf7UwrAlP",
        "outputId": "abf4a6de-33da-40a0-cdc0-fe94e4999608"
      },
      "source": [
        "print(type(lname[1]))\n",
        "print(type(ldate[1]))\n",
        "print(type(lmac[1]))\n",
        "print(type(lvote[1]))"
      ],
      "execution_count": null,
      "outputs": [
        {
          "output_type": "stream",
          "text": [
            "<class 'str'>\n",
            "<class 'str'>\n",
            "<class 'str'>\n",
            "<class 'str'>\n"
          ],
          "name": "stdout"
        }
      ]
    },
    {
      "cell_type": "markdown",
      "metadata": {
        "id": "9rpirOjrKuAf"
      },
      "source": [
        "SHA256 Hash Coding and calculate the number of votes"
      ]
    },
    {
      "cell_type": "code",
      "metadata": {
        "id": "4Gjjn8cXKzes",
        "colab": {
          "base_uri": "https://localhost:8080/"
        },
        "outputId": "39898571-98e9-45dc-b9df-38b299514bd9"
      },
      "source": [
        "lenname=len(lname);\n",
        "lenvote=len(lvote);\n",
        "Ravi=0;\n",
        "Prash=0;\n",
        "Mohith=0\n",
        "final=[]\n",
        "\n",
        "hex=['0']\n",
        "final=['0']*len(lname);\n",
        "for i in range(lenname):\n",
        "  if(lvote[i]=='1'):\n",
        "    Ravi+=1\n",
        "    final[i]=(str (str('Ravi')+lname[i]+ldate[i]+lmac[i]+lvote[i]+str(hex[i-1])));\n",
        "    result= hashlib.sha256(final[i].encode())\n",
        "    hex.append(result.hexdigest())\n",
        "  elif(lvote[i]=='2'):\n",
        "    Prash+=1\n",
        "    final[i]=(str (str('Prashanth')+lname[i]+ldate[i]+lmac[i]+lvote[i]+str(hex[i-1])));\n",
        "    result= hashlib.sha256(final[i].encode())\n",
        "    hex.append(result.hexdigest())\n",
        "  elif(lvote[i]=='3'):\n",
        "    Mohith+=1\n",
        "    final[i]=(str (str('Mohith')+lname[i]+ldate[i]+lmac[i]+lvote[i]+str(hex[i-1])));\n",
        "    result= hashlib.sha256(final[i].encode())\n",
        "    hex.append(result.hexdigest())\n",
        "\n",
        "f={'Ravi':Ravi,'Prashanth':Prash,'Mohith':Mohith}\n",
        "print(f)"
      ],
      "execution_count": null,
      "outputs": [
        {
          "output_type": "stream",
          "text": [
            "{'Ravi': 2, 'Prashanth': 1, 'Mohith': 0}\n"
          ],
          "name": "stdout"
        }
      ]
    },
    {
      "cell_type": "markdown",
      "metadata": {
        "id": "MXi0xQB3PyRo"
      },
      "source": [
        "Deatils of each data and its node index"
      ]
    },
    {
      "cell_type": "code",
      "metadata": {
        "colab": {
          "base_uri": "https://localhost:8080/"
        },
        "id": "czTKS9z1Pxf1",
        "outputId": "5a48acc8-09fa-47da-8eda-fd245664e4a5"
      },
      "source": [
        "print(\"Details of each vote\\n\")\n",
        "for i in range(lenname):\n",
        "  print(f\"The {i+1} index with name {lname[i]} has casted his vote to {lvote[i]} on {ldate[i]} at {lmac[i]} with SHA code as{hex[i]}\");\n",
        "  print(\"\\n\")\n",
        "print()"
      ],
      "execution_count": null,
      "outputs": [
        {
          "output_type": "stream",
          "text": [
            "Details of each vote\n",
            "\n",
            "The 1 index with name Shashank has casted his vote to 1 on 2021-05-11 07:31:30.829485 at 0x242ac1c0002 with SHA code as0\n",
            "\n",
            "\n",
            "The 2 index with name Rahul has casted his vote to 1 on 2021-05-11 07:31:46.360866 at 0x242ac1c0002 with SHA code as6b18f5d1dfb29e67f40a399acbf82aadf58569f31a12186b73cbb73bafee5c3c\n",
            "\n",
            "\n",
            "The 3 index with name Suhas has casted his vote to 2 on 2021-05-11 07:31:54.378620 at 0x242ac1c0002 with SHA code asf6e475611e5ec96c400e219195b02e1064191bac94382cd0d2ba598564387cd5\n",
            "\n",
            "\n",
            "\n"
          ],
          "name": "stdout"
        }
      ]
    },
    {
      "cell_type": "code",
      "metadata": {
        "colab": {
          "base_uri": "https://localhost:8080/"
        },
        "id": "PzSYGSlnJinA",
        "outputId": "f6dd1e5e-7405-4054-dacc-253065aa39f8"
      },
      "source": [
        "ver=input(\"Enter your name to verify you details\")\n",
        "i=0\n",
        "if ver in lname:\n",
        "  print(type(i+1),i+1)\n",
        "  print(type(lvote[i]),lvote[i])\n",
        "  print(type(ldate[i]),ldate[i])\n",
        "  print(type(lmac[i]),lmac[i])\n",
        "  print(type(final[i]),final[i])\n",
        "  print(type(hex[i]),hex[i])\n",
        "else:\n",
        "  print(\"Wrong entry\")"
      ],
      "execution_count": null,
      "outputs": [
        {
          "output_type": "stream",
          "text": [
            "Enter your name to verify you detailsShashank\n",
            "<class 'int'> 1\n",
            "<class 'str'> 1\n",
            "<class 'str'> 2021-05-11 07:31:30.829485\n",
            "<class 'str'> 0x242ac1c0002\n",
            "<class 'str'> RaviShashank2021-05-11 07:31:30.8294850x242ac1c000210\n",
            "<class 'str'> 0\n"
          ],
          "name": "stdout"
        }
      ]
    },
    {
      "cell_type": "markdown",
      "metadata": {
        "id": "UaqyGTy2ljap"
      },
      "source": [
        "Data verification"
      ]
    },
    {
      "cell_type": "code",
      "metadata": {
        "id": "0Ff33RKfloXW",
        "colab": {
          "base_uri": "https://localhost:8080/"
        },
        "outputId": "05b7e9bb-419c-4d88-846d-a2489d04520d"
      },
      "source": [
        "#Suppose consider a hacker gets a data and the source of transmission of data, it is quite possible for him to overwrite or even just an evesdropping\n",
        "i = 0\n",
        "lvername=lname[i]\n",
        "lvervote= '3'\n",
        "lverdate= ldate[i]\n",
        "lvermac= lmac[i]\n",
        "lverhex=hex[i-1]\n",
        "if(lvote[i]=='1'):\n",
        "  final12=(str (str('Ravi')+lvername+lverdate+lvermac+lvervote+str(lverhex)));\n",
        "  result= hashlib.sha256(final12.encode())\n",
        "  x = (result.hexdigest())\n",
        "elif(lvote[i]=='2'):\n",
        "  final12=(str (str('Prashanth')+lvername+lverdate+lvermac+lvote+str(lverhex)));\n",
        "  result= hashlib.sha256(final12.encode())\n",
        "  x = (result.hexdigest())\n",
        "elif(lvote[i]=='3'):\n",
        "  final12=(str (str('Mohith')+lvername+lverdate+lvermac+lvote+str(lverhex)));\n",
        "  result= hashlib.sha256(final12.encode())\n",
        "  x = (result.hexdigest())\n",
        "if(hex[i]==x):\n",
        "  print(\"Data is verified\")\n",
        "else:\n",
        "  print(\"Data cannot be overwritten and alert everyone there is a chance of evesdropping\")\n",
        "  break\n",
        "print(f'The winner is {max(f)}')"
      ],
      "execution_count": null,
      "outputs": [
        {
          "output_type": "stream",
          "text": [
            "Data cannot be overwritten and alert everyone there is a chance of evesdropping\n",
            "Ravi\n"
          ],
          "name": "stdout"
        }
      ]
    }
  ]
}